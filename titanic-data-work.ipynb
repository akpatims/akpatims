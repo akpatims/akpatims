{
 "cells": [
  {
   "cell_type": "code",
   "execution_count": 1,
   "id": "ceee6f38",
   "metadata": {
    "_cell_guid": "b1076dfc-b9ad-4769-8c92-a6c4dae69d19",
    "_uuid": "8f2839f25d086af736a60e9eeb907d3b93b6e0e5",
    "execution": {
     "iopub.execute_input": "2025-05-14T17:02:52.443140Z",
     "iopub.status.busy": "2025-05-14T17:02:52.442199Z",
     "iopub.status.idle": "2025-05-14T17:02:53.762884Z",
     "shell.execute_reply": "2025-05-14T17:02:53.761597Z"
    },
    "papermill": {
     "duration": 1.334035,
     "end_time": "2025-05-14T17:02:53.765728",
     "exception": false,
     "start_time": "2025-05-14T17:02:52.431693",
     "status": "completed"
    },
    "tags": []
   },
   "outputs": [
    {
     "name": "stdout",
     "output_type": "stream",
     "text": [
      "/kaggle/input/titanic-dataset/Titanic.csv\n"
     ]
    }
   ],
   "source": [
    "# This Python 3 environment comes with many helpful analytics libraries installed\n",
    "# It is defined by the kaggle/python Docker image: https://github.com/kaggle/docker-python\n",
    "# For example, here's several helpful packages to load\n",
    "\n",
    "import numpy as np # linear algebra\n",
    "import pandas as pd # data processing, CSV file I/O (e.g. pd.read_csv)\n",
    "\n",
    "# Input data files are available in the read-only \"../input/\" directory\n",
    "# For example, running this (by clicking run or pressing Shift+Enter) will list all files under the input directory\n",
    "\n",
    "import os\n",
    "for dirname, _, filenames in os.walk('/kaggle/input'):\n",
    "    for filename in filenames:\n",
    "        print(os.path.join(dirname, filename))\n",
    "\n",
    "# You can write up to 20GB to the current directory (/kaggle/working/) that gets preserved as output when you create a version using \"Save & Run All\" \n",
    "# You can also write temporary files to /kaggle/temp/, but they won't be saved outside of the current session"
   ]
  },
  {
   "cell_type": "code",
   "execution_count": 2,
   "id": "d5e9787e",
   "metadata": {
    "execution": {
     "iopub.execute_input": "2025-05-14T17:02:53.782194Z",
     "iopub.status.busy": "2025-05-14T17:02:53.781484Z",
     "iopub.status.idle": "2025-05-14T17:02:56.131966Z",
     "shell.execute_reply": "2025-05-14T17:02:56.130748Z"
    },
    "papermill": {
     "duration": 2.360103,
     "end_time": "2025-05-14T17:02:56.134605",
     "exception": false,
     "start_time": "2025-05-14T17:02:53.774502",
     "status": "completed"
    },
    "tags": []
   },
   "outputs": [],
   "source": [
    "import pandas as pd\n",
    "import numpy as np\n",
    "import matplotlib.pyplot as plt \n",
    "from sklearn.model_selection import train_test_split\n",
    "import seaborn as sn"
   ]
  },
  {
   "cell_type": "code",
   "execution_count": 3,
   "id": "a979006d",
   "metadata": {
    "execution": {
     "iopub.execute_input": "2025-05-14T17:02:56.147022Z",
     "iopub.status.busy": "2025-05-14T17:02:56.145896Z",
     "iopub.status.idle": "2025-05-14T17:02:56.173740Z",
     "shell.execute_reply": "2025-05-14T17:02:56.172508Z"
    },
    "papermill": {
     "duration": 0.036779,
     "end_time": "2025-05-14T17:02:56.176401",
     "exception": false,
     "start_time": "2025-05-14T17:02:56.139622",
     "status": "completed"
    },
    "tags": []
   },
   "outputs": [],
   "source": [
    "df = pd.read_csv('/kaggle/input/titanic-dataset/Titanic.csv')"
   ]
  },
  {
   "cell_type": "code",
   "execution_count": 4,
   "id": "ebed5991",
   "metadata": {
    "execution": {
     "iopub.execute_input": "2025-05-14T17:02:56.188638Z",
     "iopub.status.busy": "2025-05-14T17:02:56.188134Z",
     "iopub.status.idle": "2025-05-14T17:02:56.225699Z",
     "shell.execute_reply": "2025-05-14T17:02:56.224316Z"
    },
    "papermill": {
     "duration": 0.046701,
     "end_time": "2025-05-14T17:02:56.228074",
     "exception": false,
     "start_time": "2025-05-14T17:02:56.181373",
     "status": "completed"
    },
    "tags": []
   },
   "outputs": [
    {
     "name": "stdout",
     "output_type": "stream",
     "text": [
      "<class 'pandas.core.frame.DataFrame'>\n",
      "RangeIndex: 891 entries, 0 to 890\n",
      "Data columns (total 10 columns):\n",
      " #   Column    Non-Null Count  Dtype  \n",
      "---  ------    --------------  -----  \n",
      " 0   sex       891 non-null    object \n",
      " 1   age       714 non-null    float64\n",
      " 2   sibsp     891 non-null    int64  \n",
      " 3   parch     891 non-null    int64  \n",
      " 4   fare      891 non-null    float64\n",
      " 5   embarked  889 non-null    object \n",
      " 6   class     891 non-null    object \n",
      " 7   who       891 non-null    object \n",
      " 8   alone     891 non-null    bool   \n",
      " 9   survived  891 non-null    int64  \n",
      "dtypes: bool(1), float64(2), int64(3), object(4)\n",
      "memory usage: 63.6+ KB\n"
     ]
    }
   ],
   "source": [
    "df.info()"
   ]
  },
  {
   "cell_type": "code",
   "execution_count": 5,
   "id": "499e3798",
   "metadata": {
    "execution": {
     "iopub.execute_input": "2025-05-14T17:02:56.241037Z",
     "iopub.status.busy": "2025-05-14T17:02:56.239772Z",
     "iopub.status.idle": "2025-05-14T17:02:56.277077Z",
     "shell.execute_reply": "2025-05-14T17:02:56.275627Z"
    },
    "papermill": {
     "duration": 0.046401,
     "end_time": "2025-05-14T17:02:56.279499",
     "exception": false,
     "start_time": "2025-05-14T17:02:56.233098",
     "status": "completed"
    },
    "tags": []
   },
   "outputs": [
    {
     "data": {
      "text/html": [
       "<div>\n",
       "<style scoped>\n",
       "    .dataframe tbody tr th:only-of-type {\n",
       "        vertical-align: middle;\n",
       "    }\n",
       "\n",
       "    .dataframe tbody tr th {\n",
       "        vertical-align: top;\n",
       "    }\n",
       "\n",
       "    .dataframe thead th {\n",
       "        text-align: right;\n",
       "    }\n",
       "</style>\n",
       "<table border=\"1\" class=\"dataframe\">\n",
       "  <thead>\n",
       "    <tr style=\"text-align: right;\">\n",
       "      <th></th>\n",
       "      <th>age</th>\n",
       "      <th>sibsp</th>\n",
       "      <th>parch</th>\n",
       "      <th>fare</th>\n",
       "      <th>survived</th>\n",
       "    </tr>\n",
       "  </thead>\n",
       "  <tbody>\n",
       "    <tr>\n",
       "      <th>count</th>\n",
       "      <td>714.000000</td>\n",
       "      <td>891.000000</td>\n",
       "      <td>891.000000</td>\n",
       "      <td>891.000000</td>\n",
       "      <td>891.000000</td>\n",
       "    </tr>\n",
       "    <tr>\n",
       "      <th>mean</th>\n",
       "      <td>29.699118</td>\n",
       "      <td>0.523008</td>\n",
       "      <td>0.381594</td>\n",
       "      <td>32.204208</td>\n",
       "      <td>0.383838</td>\n",
       "    </tr>\n",
       "    <tr>\n",
       "      <th>std</th>\n",
       "      <td>14.526497</td>\n",
       "      <td>1.102743</td>\n",
       "      <td>0.806057</td>\n",
       "      <td>49.693429</td>\n",
       "      <td>0.486592</td>\n",
       "    </tr>\n",
       "    <tr>\n",
       "      <th>min</th>\n",
       "      <td>0.420000</td>\n",
       "      <td>0.000000</td>\n",
       "      <td>0.000000</td>\n",
       "      <td>0.000000</td>\n",
       "      <td>0.000000</td>\n",
       "    </tr>\n",
       "    <tr>\n",
       "      <th>25%</th>\n",
       "      <td>20.125000</td>\n",
       "      <td>0.000000</td>\n",
       "      <td>0.000000</td>\n",
       "      <td>7.910400</td>\n",
       "      <td>0.000000</td>\n",
       "    </tr>\n",
       "    <tr>\n",
       "      <th>50%</th>\n",
       "      <td>28.000000</td>\n",
       "      <td>0.000000</td>\n",
       "      <td>0.000000</td>\n",
       "      <td>14.454200</td>\n",
       "      <td>0.000000</td>\n",
       "    </tr>\n",
       "    <tr>\n",
       "      <th>75%</th>\n",
       "      <td>38.000000</td>\n",
       "      <td>1.000000</td>\n",
       "      <td>0.000000</td>\n",
       "      <td>31.000000</td>\n",
       "      <td>1.000000</td>\n",
       "    </tr>\n",
       "    <tr>\n",
       "      <th>max</th>\n",
       "      <td>80.000000</td>\n",
       "      <td>8.000000</td>\n",
       "      <td>6.000000</td>\n",
       "      <td>512.329200</td>\n",
       "      <td>1.000000</td>\n",
       "    </tr>\n",
       "  </tbody>\n",
       "</table>\n",
       "</div>"
      ],
      "text/plain": [
       "              age       sibsp       parch        fare    survived\n",
       "count  714.000000  891.000000  891.000000  891.000000  891.000000\n",
       "mean    29.699118    0.523008    0.381594   32.204208    0.383838\n",
       "std     14.526497    1.102743    0.806057   49.693429    0.486592\n",
       "min      0.420000    0.000000    0.000000    0.000000    0.000000\n",
       "25%     20.125000    0.000000    0.000000    7.910400    0.000000\n",
       "50%     28.000000    0.000000    0.000000   14.454200    0.000000\n",
       "75%     38.000000    1.000000    0.000000   31.000000    1.000000\n",
       "max     80.000000    8.000000    6.000000  512.329200    1.000000"
      ]
     },
     "execution_count": 5,
     "metadata": {},
     "output_type": "execute_result"
    }
   ],
   "source": [
    "df.describe()"
   ]
  },
  {
   "cell_type": "code",
   "execution_count": 6,
   "id": "26b108a2",
   "metadata": {
    "execution": {
     "iopub.execute_input": "2025-05-14T17:02:56.292163Z",
     "iopub.status.busy": "2025-05-14T17:02:56.291757Z",
     "iopub.status.idle": "2025-05-14T17:02:56.309830Z",
     "shell.execute_reply": "2025-05-14T17:02:56.308741Z"
    },
    "papermill": {
     "duration": 0.027067,
     "end_time": "2025-05-14T17:02:56.312308",
     "exception": false,
     "start_time": "2025-05-14T17:02:56.285241",
     "status": "completed"
    },
    "tags": []
   },
   "outputs": [
    {
     "data": {
      "text/html": [
       "<div>\n",
       "<style scoped>\n",
       "    .dataframe tbody tr th:only-of-type {\n",
       "        vertical-align: middle;\n",
       "    }\n",
       "\n",
       "    .dataframe tbody tr th {\n",
       "        vertical-align: top;\n",
       "    }\n",
       "\n",
       "    .dataframe thead th {\n",
       "        text-align: right;\n",
       "    }\n",
       "</style>\n",
       "<table border=\"1\" class=\"dataframe\">\n",
       "  <thead>\n",
       "    <tr style=\"text-align: right;\">\n",
       "      <th></th>\n",
       "      <th>sex</th>\n",
       "      <th>age</th>\n",
       "      <th>sibsp</th>\n",
       "      <th>parch</th>\n",
       "      <th>fare</th>\n",
       "      <th>embarked</th>\n",
       "      <th>class</th>\n",
       "      <th>who</th>\n",
       "      <th>alone</th>\n",
       "      <th>survived</th>\n",
       "    </tr>\n",
       "  </thead>\n",
       "  <tbody>\n",
       "    <tr>\n",
       "      <th>0</th>\n",
       "      <td>male</td>\n",
       "      <td>22.0</td>\n",
       "      <td>1</td>\n",
       "      <td>0</td>\n",
       "      <td>7.2500</td>\n",
       "      <td>S</td>\n",
       "      <td>Third</td>\n",
       "      <td>man</td>\n",
       "      <td>False</td>\n",
       "      <td>0</td>\n",
       "    </tr>\n",
       "    <tr>\n",
       "      <th>1</th>\n",
       "      <td>female</td>\n",
       "      <td>38.0</td>\n",
       "      <td>1</td>\n",
       "      <td>0</td>\n",
       "      <td>71.2833</td>\n",
       "      <td>C</td>\n",
       "      <td>First</td>\n",
       "      <td>woman</td>\n",
       "      <td>False</td>\n",
       "      <td>1</td>\n",
       "    </tr>\n",
       "    <tr>\n",
       "      <th>2</th>\n",
       "      <td>female</td>\n",
       "      <td>26.0</td>\n",
       "      <td>0</td>\n",
       "      <td>0</td>\n",
       "      <td>7.9250</td>\n",
       "      <td>S</td>\n",
       "      <td>Third</td>\n",
       "      <td>woman</td>\n",
       "      <td>True</td>\n",
       "      <td>1</td>\n",
       "    </tr>\n",
       "    <tr>\n",
       "      <th>3</th>\n",
       "      <td>female</td>\n",
       "      <td>35.0</td>\n",
       "      <td>1</td>\n",
       "      <td>0</td>\n",
       "      <td>53.1000</td>\n",
       "      <td>S</td>\n",
       "      <td>First</td>\n",
       "      <td>woman</td>\n",
       "      <td>False</td>\n",
       "      <td>1</td>\n",
       "    </tr>\n",
       "    <tr>\n",
       "      <th>4</th>\n",
       "      <td>male</td>\n",
       "      <td>35.0</td>\n",
       "      <td>0</td>\n",
       "      <td>0</td>\n",
       "      <td>8.0500</td>\n",
       "      <td>S</td>\n",
       "      <td>Third</td>\n",
       "      <td>man</td>\n",
       "      <td>True</td>\n",
       "      <td>0</td>\n",
       "    </tr>\n",
       "    <tr>\n",
       "      <th>5</th>\n",
       "      <td>male</td>\n",
       "      <td>NaN</td>\n",
       "      <td>0</td>\n",
       "      <td>0</td>\n",
       "      <td>8.4583</td>\n",
       "      <td>Q</td>\n",
       "      <td>Third</td>\n",
       "      <td>man</td>\n",
       "      <td>True</td>\n",
       "      <td>0</td>\n",
       "    </tr>\n",
       "    <tr>\n",
       "      <th>6</th>\n",
       "      <td>male</td>\n",
       "      <td>54.0</td>\n",
       "      <td>0</td>\n",
       "      <td>0</td>\n",
       "      <td>51.8625</td>\n",
       "      <td>S</td>\n",
       "      <td>First</td>\n",
       "      <td>man</td>\n",
       "      <td>True</td>\n",
       "      <td>0</td>\n",
       "    </tr>\n",
       "    <tr>\n",
       "      <th>7</th>\n",
       "      <td>male</td>\n",
       "      <td>2.0</td>\n",
       "      <td>3</td>\n",
       "      <td>1</td>\n",
       "      <td>21.0750</td>\n",
       "      <td>S</td>\n",
       "      <td>Third</td>\n",
       "      <td>child</td>\n",
       "      <td>False</td>\n",
       "      <td>0</td>\n",
       "    </tr>\n",
       "    <tr>\n",
       "      <th>8</th>\n",
       "      <td>female</td>\n",
       "      <td>27.0</td>\n",
       "      <td>0</td>\n",
       "      <td>2</td>\n",
       "      <td>11.1333</td>\n",
       "      <td>S</td>\n",
       "      <td>Third</td>\n",
       "      <td>woman</td>\n",
       "      <td>False</td>\n",
       "      <td>1</td>\n",
       "    </tr>\n",
       "    <tr>\n",
       "      <th>9</th>\n",
       "      <td>female</td>\n",
       "      <td>14.0</td>\n",
       "      <td>1</td>\n",
       "      <td>0</td>\n",
       "      <td>30.0708</td>\n",
       "      <td>C</td>\n",
       "      <td>Second</td>\n",
       "      <td>child</td>\n",
       "      <td>False</td>\n",
       "      <td>1</td>\n",
       "    </tr>\n",
       "  </tbody>\n",
       "</table>\n",
       "</div>"
      ],
      "text/plain": [
       "      sex   age  sibsp  parch     fare embarked   class    who  alone  \\\n",
       "0    male  22.0      1      0   7.2500        S   Third    man  False   \n",
       "1  female  38.0      1      0  71.2833        C   First  woman  False   \n",
       "2  female  26.0      0      0   7.9250        S   Third  woman   True   \n",
       "3  female  35.0      1      0  53.1000        S   First  woman  False   \n",
       "4    male  35.0      0      0   8.0500        S   Third    man   True   \n",
       "5    male   NaN      0      0   8.4583        Q   Third    man   True   \n",
       "6    male  54.0      0      0  51.8625        S   First    man   True   \n",
       "7    male   2.0      3      1  21.0750        S   Third  child  False   \n",
       "8  female  27.0      0      2  11.1333        S   Third  woman  False   \n",
       "9  female  14.0      1      0  30.0708        C  Second  child  False   \n",
       "\n",
       "   survived  \n",
       "0         0  \n",
       "1         1  \n",
       "2         1  \n",
       "3         1  \n",
       "4         0  \n",
       "5         0  \n",
       "6         0  \n",
       "7         0  \n",
       "8         1  \n",
       "9         1  "
      ]
     },
     "execution_count": 6,
     "metadata": {},
     "output_type": "execute_result"
    }
   ],
   "source": [
    "df.head(10)"
   ]
  },
  {
   "cell_type": "code",
   "execution_count": 7,
   "id": "21003ee7",
   "metadata": {
    "execution": {
     "iopub.execute_input": "2025-05-14T17:02:56.325075Z",
     "iopub.status.busy": "2025-05-14T17:02:56.324638Z",
     "iopub.status.idle": "2025-05-14T17:02:56.347557Z",
     "shell.execute_reply": "2025-05-14T17:02:56.346440Z"
    },
    "papermill": {
     "duration": 0.031861,
     "end_time": "2025-05-14T17:02:56.349974",
     "exception": false,
     "start_time": "2025-05-14T17:02:56.318113",
     "status": "completed"
    },
    "tags": []
   },
   "outputs": [
    {
     "data": {
      "text/html": [
       "<div>\n",
       "<style scoped>\n",
       "    .dataframe tbody tr th:only-of-type {\n",
       "        vertical-align: middle;\n",
       "    }\n",
       "\n",
       "    .dataframe tbody tr th {\n",
       "        vertical-align: top;\n",
       "    }\n",
       "\n",
       "    .dataframe thead th {\n",
       "        text-align: right;\n",
       "    }\n",
       "</style>\n",
       "<table border=\"1\" class=\"dataframe\">\n",
       "  <thead>\n",
       "    <tr style=\"text-align: right;\">\n",
       "      <th></th>\n",
       "      <th>sex</th>\n",
       "      <th>age</th>\n",
       "      <th>sibsp</th>\n",
       "      <th>parch</th>\n",
       "      <th>fare</th>\n",
       "      <th>embarked</th>\n",
       "      <th>class</th>\n",
       "      <th>who</th>\n",
       "      <th>alone</th>\n",
       "      <th>survived</th>\n",
       "    </tr>\n",
       "  </thead>\n",
       "  <tbody>\n",
       "    <tr>\n",
       "      <th>0</th>\n",
       "      <td>male</td>\n",
       "      <td>22.0</td>\n",
       "      <td>1</td>\n",
       "      <td>0</td>\n",
       "      <td>7.2500</td>\n",
       "      <td>S</td>\n",
       "      <td>Third</td>\n",
       "      <td>man</td>\n",
       "      <td>False</td>\n",
       "      <td>0</td>\n",
       "    </tr>\n",
       "    <tr>\n",
       "      <th>1</th>\n",
       "      <td>female</td>\n",
       "      <td>38.0</td>\n",
       "      <td>1</td>\n",
       "      <td>0</td>\n",
       "      <td>71.2833</td>\n",
       "      <td>C</td>\n",
       "      <td>First</td>\n",
       "      <td>woman</td>\n",
       "      <td>False</td>\n",
       "      <td>1</td>\n",
       "    </tr>\n",
       "    <tr>\n",
       "      <th>2</th>\n",
       "      <td>female</td>\n",
       "      <td>26.0</td>\n",
       "      <td>0</td>\n",
       "      <td>0</td>\n",
       "      <td>7.9250</td>\n",
       "      <td>S</td>\n",
       "      <td>Third</td>\n",
       "      <td>woman</td>\n",
       "      <td>True</td>\n",
       "      <td>1</td>\n",
       "    </tr>\n",
       "    <tr>\n",
       "      <th>3</th>\n",
       "      <td>female</td>\n",
       "      <td>35.0</td>\n",
       "      <td>1</td>\n",
       "      <td>0</td>\n",
       "      <td>53.1000</td>\n",
       "      <td>S</td>\n",
       "      <td>First</td>\n",
       "      <td>woman</td>\n",
       "      <td>False</td>\n",
       "      <td>1</td>\n",
       "    </tr>\n",
       "    <tr>\n",
       "      <th>4</th>\n",
       "      <td>male</td>\n",
       "      <td>35.0</td>\n",
       "      <td>0</td>\n",
       "      <td>0</td>\n",
       "      <td>8.0500</td>\n",
       "      <td>S</td>\n",
       "      <td>Third</td>\n",
       "      <td>man</td>\n",
       "      <td>True</td>\n",
       "      <td>0</td>\n",
       "    </tr>\n",
       "    <tr>\n",
       "      <th>...</th>\n",
       "      <td>...</td>\n",
       "      <td>...</td>\n",
       "      <td>...</td>\n",
       "      <td>...</td>\n",
       "      <td>...</td>\n",
       "      <td>...</td>\n",
       "      <td>...</td>\n",
       "      <td>...</td>\n",
       "      <td>...</td>\n",
       "      <td>...</td>\n",
       "    </tr>\n",
       "    <tr>\n",
       "      <th>885</th>\n",
       "      <td>female</td>\n",
       "      <td>39.0</td>\n",
       "      <td>0</td>\n",
       "      <td>5</td>\n",
       "      <td>29.1250</td>\n",
       "      <td>Q</td>\n",
       "      <td>Third</td>\n",
       "      <td>woman</td>\n",
       "      <td>False</td>\n",
       "      <td>0</td>\n",
       "    </tr>\n",
       "    <tr>\n",
       "      <th>886</th>\n",
       "      <td>male</td>\n",
       "      <td>27.0</td>\n",
       "      <td>0</td>\n",
       "      <td>0</td>\n",
       "      <td>13.0000</td>\n",
       "      <td>S</td>\n",
       "      <td>Second</td>\n",
       "      <td>man</td>\n",
       "      <td>True</td>\n",
       "      <td>0</td>\n",
       "    </tr>\n",
       "    <tr>\n",
       "      <th>887</th>\n",
       "      <td>female</td>\n",
       "      <td>19.0</td>\n",
       "      <td>0</td>\n",
       "      <td>0</td>\n",
       "      <td>30.0000</td>\n",
       "      <td>S</td>\n",
       "      <td>First</td>\n",
       "      <td>woman</td>\n",
       "      <td>True</td>\n",
       "      <td>1</td>\n",
       "    </tr>\n",
       "    <tr>\n",
       "      <th>889</th>\n",
       "      <td>male</td>\n",
       "      <td>26.0</td>\n",
       "      <td>0</td>\n",
       "      <td>0</td>\n",
       "      <td>30.0000</td>\n",
       "      <td>C</td>\n",
       "      <td>First</td>\n",
       "      <td>man</td>\n",
       "      <td>True</td>\n",
       "      <td>1</td>\n",
       "    </tr>\n",
       "    <tr>\n",
       "      <th>890</th>\n",
       "      <td>male</td>\n",
       "      <td>32.0</td>\n",
       "      <td>0</td>\n",
       "      <td>0</td>\n",
       "      <td>7.7500</td>\n",
       "      <td>Q</td>\n",
       "      <td>Third</td>\n",
       "      <td>man</td>\n",
       "      <td>True</td>\n",
       "      <td>0</td>\n",
       "    </tr>\n",
       "  </tbody>\n",
       "</table>\n",
       "<p>712 rows × 10 columns</p>\n",
       "</div>"
      ],
      "text/plain": [
       "        sex   age  sibsp  parch     fare embarked   class    who  alone  \\\n",
       "0      male  22.0      1      0   7.2500        S   Third    man  False   \n",
       "1    female  38.0      1      0  71.2833        C   First  woman  False   \n",
       "2    female  26.0      0      0   7.9250        S   Third  woman   True   \n",
       "3    female  35.0      1      0  53.1000        S   First  woman  False   \n",
       "4      male  35.0      0      0   8.0500        S   Third    man   True   \n",
       "..      ...   ...    ...    ...      ...      ...     ...    ...    ...   \n",
       "885  female  39.0      0      5  29.1250        Q   Third  woman  False   \n",
       "886    male  27.0      0      0  13.0000        S  Second    man   True   \n",
       "887  female  19.0      0      0  30.0000        S   First  woman   True   \n",
       "889    male  26.0      0      0  30.0000        C   First    man   True   \n",
       "890    male  32.0      0      0   7.7500        Q   Third    man   True   \n",
       "\n",
       "     survived  \n",
       "0           0  \n",
       "1           1  \n",
       "2           1  \n",
       "3           1  \n",
       "4           0  \n",
       "..        ...  \n",
       "885         0  \n",
       "886         0  \n",
       "887         1  \n",
       "889         1  \n",
       "890         0  \n",
       "\n",
       "[712 rows x 10 columns]"
      ]
     },
     "execution_count": 7,
     "metadata": {},
     "output_type": "execute_result"
    }
   ],
   "source": [
    "df.dropna()"
   ]
  },
  {
   "cell_type": "code",
   "execution_count": 8,
   "id": "d94aadb1",
   "metadata": {
    "execution": {
     "iopub.execute_input": "2025-05-14T17:02:56.363229Z",
     "iopub.status.busy": "2025-05-14T17:02:56.362818Z",
     "iopub.status.idle": "2025-05-14T17:02:56.370154Z",
     "shell.execute_reply": "2025-05-14T17:02:56.368989Z"
    },
    "papermill": {
     "duration": 0.016805,
     "end_time": "2025-05-14T17:02:56.372412",
     "exception": false,
     "start_time": "2025-05-14T17:02:56.355607",
     "status": "completed"
    },
    "tags": []
   },
   "outputs": [
    {
     "data": {
      "text/plain": [
       "Index(['sex', 'age', 'sibsp', 'parch', 'fare', 'embarked', 'class', 'who',\n",
       "       'alone', 'survived'],\n",
       "      dtype='object')"
      ]
     },
     "execution_count": 8,
     "metadata": {},
     "output_type": "execute_result"
    }
   ],
   "source": [
    "df.columns"
   ]
  },
  {
   "cell_type": "code",
   "execution_count": 9,
   "id": "672100dc",
   "metadata": {
    "execution": {
     "iopub.execute_input": "2025-05-14T17:02:56.385542Z",
     "iopub.status.busy": "2025-05-14T17:02:56.385170Z",
     "iopub.status.idle": "2025-05-14T17:02:56.390406Z",
     "shell.execute_reply": "2025-05-14T17:02:56.389021Z"
    },
    "papermill": {
     "duration": 0.014502,
     "end_time": "2025-05-14T17:02:56.392635",
     "exception": false,
     "start_time": "2025-05-14T17:02:56.378133",
     "status": "completed"
    },
    "tags": []
   },
   "outputs": [],
   "source": [
    "import sklearn "
   ]
  },
  {
   "cell_type": "code",
   "execution_count": 10,
   "id": "19721efd",
   "metadata": {
    "execution": {
     "iopub.execute_input": "2025-05-14T17:02:56.406310Z",
     "iopub.status.busy": "2025-05-14T17:02:56.405516Z",
     "iopub.status.idle": "2025-05-14T17:02:56.415072Z",
     "shell.execute_reply": "2025-05-14T17:02:56.413848Z"
    },
    "papermill": {
     "duration": 0.018848,
     "end_time": "2025-05-14T17:02:56.417415",
     "exception": false,
     "start_time": "2025-05-14T17:02:56.398567",
     "status": "completed"
    },
    "tags": []
   },
   "outputs": [
    {
     "data": {
      "text/plain": [
       "survived\n",
       "0    549\n",
       "1    342\n",
       "dtype: int64"
      ]
     },
     "execution_count": 10,
     "metadata": {},
     "output_type": "execute_result"
    }
   ],
   "source": [
    "df.groupby ('survived').size()"
   ]
  },
  {
   "cell_type": "code",
   "execution_count": 11,
   "id": "3ec1e41c",
   "metadata": {
    "execution": {
     "iopub.execute_input": "2025-05-14T17:02:56.431066Z",
     "iopub.status.busy": "2025-05-14T17:02:56.430665Z",
     "iopub.status.idle": "2025-05-14T17:02:56.437109Z",
     "shell.execute_reply": "2025-05-14T17:02:56.435962Z"
    },
    "papermill": {
     "duration": 0.016264,
     "end_time": "2025-05-14T17:02:56.439728",
     "exception": false,
     "start_time": "2025-05-14T17:02:56.423464",
     "status": "completed"
    },
    "tags": []
   },
   "outputs": [],
   "source": [
    "x=pd.get_dummies('class')"
   ]
  },
  {
   "cell_type": "code",
   "execution_count": 12,
   "id": "5b190fe9",
   "metadata": {
    "execution": {
     "iopub.execute_input": "2025-05-14T17:02:56.455679Z",
     "iopub.status.busy": "2025-05-14T17:02:56.455339Z",
     "iopub.status.idle": "2025-05-14T17:02:56.460789Z",
     "shell.execute_reply": "2025-05-14T17:02:56.459516Z"
    },
    "papermill": {
     "duration": 0.015267,
     "end_time": "2025-05-14T17:02:56.463012",
     "exception": false,
     "start_time": "2025-05-14T17:02:56.447745",
     "status": "completed"
    },
    "tags": []
   },
   "outputs": [],
   "source": [
    "from sklearn.preprocessing import LabelEncoder\n",
    "  \n",
    "    "
   ]
  },
  {
   "cell_type": "code",
   "execution_count": 13,
   "id": "c148324c",
   "metadata": {
    "execution": {
     "iopub.execute_input": "2025-05-14T17:02:56.476687Z",
     "iopub.status.busy": "2025-05-14T17:02:56.476308Z",
     "iopub.status.idle": "2025-05-14T17:02:56.481401Z",
     "shell.execute_reply": "2025-05-14T17:02:56.480380Z"
    },
    "papermill": {
     "duration": 0.01451,
     "end_time": "2025-05-14T17:02:56.483776",
     "exception": false,
     "start_time": "2025-05-14T17:02:56.469266",
     "status": "completed"
    },
    "tags": []
   },
   "outputs": [],
   "source": [
    "Ls=LabelEncoder()\n"
   ]
  },
  {
   "cell_type": "code",
   "execution_count": 14,
   "id": "945a26dc",
   "metadata": {
    "execution": {
     "iopub.execute_input": "2025-05-14T17:02:56.497500Z",
     "iopub.status.busy": "2025-05-14T17:02:56.497095Z",
     "iopub.status.idle": "2025-05-14T17:02:56.504086Z",
     "shell.execute_reply": "2025-05-14T17:02:56.502788Z"
    },
    "papermill": {
     "duration": 0.016805,
     "end_time": "2025-05-14T17:02:56.506610",
     "exception": false,
     "start_time": "2025-05-14T17:02:56.489805",
     "status": "completed"
    },
    "tags": []
   },
   "outputs": [],
   "source": [
    "df['class']=Ls.fit_transform(df['class'])"
   ]
  },
  {
   "cell_type": "code",
   "execution_count": 15,
   "id": "53cf09ef",
   "metadata": {
    "execution": {
     "iopub.execute_input": "2025-05-14T17:02:56.521536Z",
     "iopub.status.busy": "2025-05-14T17:02:56.521191Z",
     "iopub.status.idle": "2025-05-14T17:02:56.539126Z",
     "shell.execute_reply": "2025-05-14T17:02:56.537892Z"
    },
    "papermill": {
     "duration": 0.028928,
     "end_time": "2025-05-14T17:02:56.541499",
     "exception": false,
     "start_time": "2025-05-14T17:02:56.512571",
     "status": "completed"
    },
    "tags": []
   },
   "outputs": [
    {
     "data": {
      "text/html": [
       "<div>\n",
       "<style scoped>\n",
       "    .dataframe tbody tr th:only-of-type {\n",
       "        vertical-align: middle;\n",
       "    }\n",
       "\n",
       "    .dataframe tbody tr th {\n",
       "        vertical-align: top;\n",
       "    }\n",
       "\n",
       "    .dataframe thead th {\n",
       "        text-align: right;\n",
       "    }\n",
       "</style>\n",
       "<table border=\"1\" class=\"dataframe\">\n",
       "  <thead>\n",
       "    <tr style=\"text-align: right;\">\n",
       "      <th></th>\n",
       "      <th>sex</th>\n",
       "      <th>age</th>\n",
       "      <th>sibsp</th>\n",
       "      <th>parch</th>\n",
       "      <th>fare</th>\n",
       "      <th>embarked</th>\n",
       "      <th>class</th>\n",
       "      <th>who</th>\n",
       "      <th>alone</th>\n",
       "      <th>survived</th>\n",
       "    </tr>\n",
       "  </thead>\n",
       "  <tbody>\n",
       "    <tr>\n",
       "      <th>0</th>\n",
       "      <td>male</td>\n",
       "      <td>22.0</td>\n",
       "      <td>1</td>\n",
       "      <td>0</td>\n",
       "      <td>7.2500</td>\n",
       "      <td>S</td>\n",
       "      <td>2</td>\n",
       "      <td>man</td>\n",
       "      <td>False</td>\n",
       "      <td>0</td>\n",
       "    </tr>\n",
       "    <tr>\n",
       "      <th>1</th>\n",
       "      <td>female</td>\n",
       "      <td>38.0</td>\n",
       "      <td>1</td>\n",
       "      <td>0</td>\n",
       "      <td>71.2833</td>\n",
       "      <td>C</td>\n",
       "      <td>0</td>\n",
       "      <td>woman</td>\n",
       "      <td>False</td>\n",
       "      <td>1</td>\n",
       "    </tr>\n",
       "    <tr>\n",
       "      <th>2</th>\n",
       "      <td>female</td>\n",
       "      <td>26.0</td>\n",
       "      <td>0</td>\n",
       "      <td>0</td>\n",
       "      <td>7.9250</td>\n",
       "      <td>S</td>\n",
       "      <td>2</td>\n",
       "      <td>woman</td>\n",
       "      <td>True</td>\n",
       "      <td>1</td>\n",
       "    </tr>\n",
       "    <tr>\n",
       "      <th>3</th>\n",
       "      <td>female</td>\n",
       "      <td>35.0</td>\n",
       "      <td>1</td>\n",
       "      <td>0</td>\n",
       "      <td>53.1000</td>\n",
       "      <td>S</td>\n",
       "      <td>0</td>\n",
       "      <td>woman</td>\n",
       "      <td>False</td>\n",
       "      <td>1</td>\n",
       "    </tr>\n",
       "    <tr>\n",
       "      <th>4</th>\n",
       "      <td>male</td>\n",
       "      <td>35.0</td>\n",
       "      <td>0</td>\n",
       "      <td>0</td>\n",
       "      <td>8.0500</td>\n",
       "      <td>S</td>\n",
       "      <td>2</td>\n",
       "      <td>man</td>\n",
       "      <td>True</td>\n",
       "      <td>0</td>\n",
       "    </tr>\n",
       "    <tr>\n",
       "      <th>...</th>\n",
       "      <td>...</td>\n",
       "      <td>...</td>\n",
       "      <td>...</td>\n",
       "      <td>...</td>\n",
       "      <td>...</td>\n",
       "      <td>...</td>\n",
       "      <td>...</td>\n",
       "      <td>...</td>\n",
       "      <td>...</td>\n",
       "      <td>...</td>\n",
       "    </tr>\n",
       "    <tr>\n",
       "      <th>886</th>\n",
       "      <td>male</td>\n",
       "      <td>27.0</td>\n",
       "      <td>0</td>\n",
       "      <td>0</td>\n",
       "      <td>13.0000</td>\n",
       "      <td>S</td>\n",
       "      <td>1</td>\n",
       "      <td>man</td>\n",
       "      <td>True</td>\n",
       "      <td>0</td>\n",
       "    </tr>\n",
       "    <tr>\n",
       "      <th>887</th>\n",
       "      <td>female</td>\n",
       "      <td>19.0</td>\n",
       "      <td>0</td>\n",
       "      <td>0</td>\n",
       "      <td>30.0000</td>\n",
       "      <td>S</td>\n",
       "      <td>0</td>\n",
       "      <td>woman</td>\n",
       "      <td>True</td>\n",
       "      <td>1</td>\n",
       "    </tr>\n",
       "    <tr>\n",
       "      <th>888</th>\n",
       "      <td>female</td>\n",
       "      <td>NaN</td>\n",
       "      <td>1</td>\n",
       "      <td>2</td>\n",
       "      <td>23.4500</td>\n",
       "      <td>S</td>\n",
       "      <td>2</td>\n",
       "      <td>woman</td>\n",
       "      <td>False</td>\n",
       "      <td>0</td>\n",
       "    </tr>\n",
       "    <tr>\n",
       "      <th>889</th>\n",
       "      <td>male</td>\n",
       "      <td>26.0</td>\n",
       "      <td>0</td>\n",
       "      <td>0</td>\n",
       "      <td>30.0000</td>\n",
       "      <td>C</td>\n",
       "      <td>0</td>\n",
       "      <td>man</td>\n",
       "      <td>True</td>\n",
       "      <td>1</td>\n",
       "    </tr>\n",
       "    <tr>\n",
       "      <th>890</th>\n",
       "      <td>male</td>\n",
       "      <td>32.0</td>\n",
       "      <td>0</td>\n",
       "      <td>0</td>\n",
       "      <td>7.7500</td>\n",
       "      <td>Q</td>\n",
       "      <td>2</td>\n",
       "      <td>man</td>\n",
       "      <td>True</td>\n",
       "      <td>0</td>\n",
       "    </tr>\n",
       "  </tbody>\n",
       "</table>\n",
       "<p>891 rows × 10 columns</p>\n",
       "</div>"
      ],
      "text/plain": [
       "        sex   age  sibsp  parch     fare embarked  class    who  alone  \\\n",
       "0      male  22.0      1      0   7.2500        S      2    man  False   \n",
       "1    female  38.0      1      0  71.2833        C      0  woman  False   \n",
       "2    female  26.0      0      0   7.9250        S      2  woman   True   \n",
       "3    female  35.0      1      0  53.1000        S      0  woman  False   \n",
       "4      male  35.0      0      0   8.0500        S      2    man   True   \n",
       "..      ...   ...    ...    ...      ...      ...    ...    ...    ...   \n",
       "886    male  27.0      0      0  13.0000        S      1    man   True   \n",
       "887  female  19.0      0      0  30.0000        S      0  woman   True   \n",
       "888  female   NaN      1      2  23.4500        S      2  woman  False   \n",
       "889    male  26.0      0      0  30.0000        C      0    man   True   \n",
       "890    male  32.0      0      0   7.7500        Q      2    man   True   \n",
       "\n",
       "     survived  \n",
       "0           0  \n",
       "1           1  \n",
       "2           1  \n",
       "3           1  \n",
       "4           0  \n",
       "..        ...  \n",
       "886         0  \n",
       "887         1  \n",
       "888         0  \n",
       "889         1  \n",
       "890         0  \n",
       "\n",
       "[891 rows x 10 columns]"
      ]
     },
     "execution_count": 15,
     "metadata": {},
     "output_type": "execute_result"
    }
   ],
   "source": [
    "df"
   ]
  },
  {
   "cell_type": "code",
   "execution_count": 16,
   "id": "4ae19266",
   "metadata": {
    "execution": {
     "iopub.execute_input": "2025-05-14T17:02:56.555802Z",
     "iopub.status.busy": "2025-05-14T17:02:56.555466Z",
     "iopub.status.idle": "2025-05-14T17:02:56.560670Z",
     "shell.execute_reply": "2025-05-14T17:02:56.559390Z"
    },
    "papermill": {
     "duration": 0.01547,
     "end_time": "2025-05-14T17:02:56.563076",
     "exception": false,
     "start_time": "2025-05-14T17:02:56.547606",
     "status": "completed"
    },
    "tags": []
   },
   "outputs": [],
   "source": [
    "import seaborn as sns"
   ]
  },
  {
   "cell_type": "code",
   "execution_count": 17,
   "id": "8f138c83",
   "metadata": {
    "execution": {
     "iopub.execute_input": "2025-05-14T17:02:56.576778Z",
     "iopub.status.busy": "2025-05-14T17:02:56.576428Z",
     "iopub.status.idle": "2025-05-14T17:02:56.899497Z",
     "shell.execute_reply": "2025-05-14T17:02:56.898181Z"
    },
    "papermill": {
     "duration": 0.332689,
     "end_time": "2025-05-14T17:02:56.901885",
     "exception": false,
     "start_time": "2025-05-14T17:02:56.569196",
     "status": "completed"
    },
    "tags": []
   },
   "outputs": [
    {
     "data": {
      "text/plain": [
       "<Axes: xlabel='survived', ylabel='count'>"
      ]
     },
     "execution_count": 17,
     "metadata": {},
     "output_type": "execute_result"
    },
    {
     "data": {
      "image/png": "[encoded data removed]",
      "text/plain": [
       "<Figure size 640x480 with 1 Axes>"
      ]
     },
     "metadata": {},
     "output_type": "display_data"
    }
   ],
   "source": [
    "sns.countplot(x='survived',hue='class',data=df)"
   ]
  },
  {
   "cell_type": "code",
   "execution_count": 18,
   "id": "4f8e9e35",
   "metadata": {
    "execution": {
     "iopub.execute_input": "2025-05-14T17:02:56.917956Z",
     "iopub.status.busy": "2025-05-14T17:02:56.916155Z",
     "iopub.status.idle": "2025-05-14T17:02:58.547149Z",
     "shell.execute_reply": "2025-05-14T17:02:58.545810Z"
    },
    "papermill": {
     "duration": 1.641531,
     "end_time": "2025-05-14T17:02:58.549841",
     "exception": false,
     "start_time": "2025-05-14T17:02:56.908310",
     "status": "completed"
    },
    "tags": []
   },
   "outputs": [
    {
     "data": {
      "text/plain": [
       "<Axes: xlabel='survived', ylabel='count'>"
      ]
     },
     "execution_count": 18,
     "metadata": {},
     "output_type": "execute_result"
    },
    {
     "data": {
      "image/png": "[encoded data removed]",
      "text/plain": [
       "<Figure size 640x480 with 1 Axes>"
      ]
     },
     "metadata": {},
     "output_type": "display_data"
    }
   ],
   "source": [
    "sns.countplot(x='survived',hue='age',data=df)"
   ]
  },
  {
   "cell_type": "code",
   "execution_count": 19,
   "id": "32aadcd5",
   "metadata": {
    "execution": {
     "iopub.execute_input": "2025-05-14T17:02:58.568293Z",
     "iopub.status.busy": "2025-05-14T17:02:58.567877Z",
     "iopub.status.idle": "2025-05-14T17:02:58.814749Z",
     "shell.execute_reply": "2025-05-14T17:02:58.813475Z"
    },
    "papermill": {
     "duration": 0.258851,
     "end_time": "2025-05-14T17:02:58.817254",
     "exception": false,
     "start_time": "2025-05-14T17:02:58.558403",
     "status": "completed"
    },
    "tags": []
   },
   "outputs": [
    {
     "data": {
      "text/plain": [
       "<Axes: xlabel='survived', ylabel='count'>"
      ]
     },
     "execution_count": 19,
     "metadata": {},
     "output_type": "execute_result"
    },
    {
     "data": {
      "image/png": "[encoded data removed]",
      "text/plain": [
       "<Figure size 640x480 with 1 Axes>"
      ]
     },
     "metadata": {},
     "output_type": "display_data"
    }
   ],
   "source": [
    "sns.countplot(x='survived',hue='sex',data=df)"
   ]
  },
  {
   "cell_type": "code",
   "execution_count": 20,
   "id": "56eafc9e",
   "metadata": {
    "execution": {
     "iopub.execute_input": "2025-05-14T17:02:58.835937Z",
     "iopub.status.busy": "2025-05-14T17:02:58.835538Z",
     "iopub.status.idle": "2025-05-14T17:02:59.101066Z",
     "shell.execute_reply": "2025-05-14T17:02:59.099780Z"
    },
    "papermill": {
     "duration": 0.27753,
     "end_time": "2025-05-14T17:02:59.103503",
     "exception": false,
     "start_time": "2025-05-14T17:02:58.825973",
     "status": "completed"
    },
    "tags": []
   },
   "outputs": [
    {
     "data": {
      "text/plain": [
       "<Axes: xlabel='survived', ylabel='count'>"
      ]
     },
     "execution_count": 20,
     "metadata": {},
     "output_type": "execute_result"
    },
    {
     "data": {
      "image/png": "[encoded data removed]",
      "text/plain": [
       "<Figure size 640x480 with 1 Axes>"
      ]
     },
     "metadata": {},
     "output_type": "display_data"
    }
   ],
   "source": [
    "sns.countplot(x='survived',hue='alone',data=df)"
   ]
  },
  {
   "cell_type": "code",
   "execution_count": null,
   "id": "1352f4d8",
   "metadata": {
    "papermill": {
     "duration": 0.008379,
     "end_time": "2025-05-14T17:02:59.120800",
     "exception": false,
     "start_time": "2025-05-14T17:02:59.112421",
     "status": "completed"
    },
    "tags": []
   },
   "outputs": [],
   "source": []
  },
  {
   "cell_type": "code",
   "execution_count": null,
   "id": "e3c5649b",
   "metadata": {
    "papermill": {
     "duration": 0.009049,
     "end_time": "2025-05-14T17:02:59.139338",
     "exception": false,
     "start_time": "2025-05-14T17:02:59.130289",
     "status": "completed"
    },
    "tags": []
   },
   "outputs": [],
   "source": []
  }
 ],
 "metadata": {
  "kaggle": {
   "accelerator": "none",
   "dataSources": [
    {
     "datasetId": 1893363,
     "sourceId": 3100063,
     "sourceType": "datasetVersion"
    }
   ],
   "dockerImageVersionId": 30732,
   "isGpuEnabled": false,
   "isInternetEnabled": false,
   "language": "python",
   "sourceType": "notebook"
  },
  "kernelspec": {
   "display_name": "Python 3",
   "language": "python",
   "name": "python3"
  },
  "language_info": {
   "codemirror_mode": {
    "name": "ipython",
    "version": 3
   },
   "file_extension": ".py",
   "mimetype": "text/x-python",
   "name": "python",
   "nbconvert_exporter": "python",
   "pygments_lexer": "ipython3",
   "version": "3.10.13"
  },
  "papermill": {
   "default_parameters": {},
   "duration": 11.344185,
   "end_time": "2025-05-14T17:02:59.872952",
   "environment_variables": {},
   "exception": null,
   "input_path": "__notebook__.ipynb",
   "output_path": "__notebook__.ipynb",
   "parameters": {},
   "start_time": "2025-05-14T17:02:48.528767",
   "version": "2.5.0"
  }
 },
 "nbformat": 4,
 "nbformat_minor": 5
}
